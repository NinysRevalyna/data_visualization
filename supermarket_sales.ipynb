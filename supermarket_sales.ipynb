{
 "cells": [
  {
   "cell_type": "markdown",
   "id": "723930af",
   "metadata": {},
   "source": [
    "# Business Understanding"
   ]
  },
  {
   "cell_type": "markdown",
   "id": "f586221b",
   "metadata": {},
   "source": [
    "In the current business context, the expansion and proliferation of supermarkets within densely populated urban areas are on the rise. This growth is accompanied by heightened market competition among supermarkets. To gain valuable insights into the dynamics of this market and to make informed strategic decisions, a comprehensive analysis of historical sales data from a supermarket company is essential.\n",
    "\n",
    "The dataset under consideration encompasses sales records spanning three months and is derived from three distinct branches of the supermarket company. This dataset is particularly conducive to the application of predictive data analytics methods, offering a valuable opportunity to forecast trends, identify patterns, and derive actionable insights. Understanding the business landscape, market trends, and consumer behavior through data analysis is imperative for staying competitive, optimizing operations, and making informed business decisions in the dynamic and competitive supermarket industry."
   ]
  },
  {
   "cell_type": "markdown",
   "id": "901c41b9",
   "metadata": {},
   "source": [
    "# Data Understanding"
   ]
  },
  {
   "cell_type": "markdown",
   "id": "cab6b11c",
   "metadata": {},
   "source": [
    "- Supermarket sales is one of the historical sales data for supermarket companies recorded in 3 different branches for 3 months in the 2019 period.\n",
    "- Source Data : https://www.kaggle.com/datasets/aungpyaeap/supermarket-sales/data\n",
    "- The dataset has 17 columns and 1000 rows\n",
    "- Attribute information :\n",
    "    - Invoice id: Computer-generated sales slip invoice identification number.\n",
    "    - Branch: Supercenter branches labeled as A, B, and C.\n",
    "    - City: Location of the supercenters in different cities.\n",
    "    - Customer type: Classification of customers into Members (those using a member card) and Normal (those without a member card).\n",
    "    - Gender: Gender type of the customer.\n",
    "    - Product line: General categorization of items, including Electronic accessories, Fashion accessories, Food and beverages, Health and beauty, Home and lifestyle, Sports and travel.\n",
    "    - Unit price: Price of each product in dollars.\n",
    "    - Tax: 5% tax fee applied to customer purchases.\n",
    "    - Total: Total price, including tax.\n",
    "    - Quantity: Number of products purchased by the customer.\n",
    "    - Date: Date of purchase, recorded from January 2019 to March 2019.\n",
    "    - Time: Purchase time, ranging from 10 am to 9 pm.\n",
    "    - Payment: Payment method used by the customer for the purchase.\n",
    "    - COGS (Cost of Goods Sold): The cost incurred by the supermarket in producing or purchasing the products sold.\n",
    "    - Gross margin percentage: Percentage representing the gross margin.\n",
    "    - Gross income: Gross income derived from sales.\n",
    "    - Rating: Customer satisfaction rating on their overall shopping experience, measured on a scale of 1 to 10."
   ]
  },
  {
   "cell_type": "markdown",
   "id": "c31da512",
   "metadata": {},
   "source": [
    "# Import Library"
   ]
  },
  {
   "cell_type": "code",
   "execution_count": 1,
   "id": "54a17820",
   "metadata": {},
   "outputs": [],
   "source": [
    "import pandas as pd"
   ]
  },
  {
   "cell_type": "markdown",
   "id": "50c66714",
   "metadata": {},
   "source": [
    "# Load Data"
   ]
  },
  {
   "cell_type": "code",
   "execution_count": 2,
   "id": "9874764d",
   "metadata": {},
   "outputs": [],
   "source": [
    "df = pd.read_csv('supermarket_sales.csv')"
   ]
  },
  {
   "cell_type": "code",
   "execution_count": 3,
   "id": "86c91814",
   "metadata": {
    "scrolled": true
   },
   "outputs": [
    {
     "data": {
      "text/html": [
       "<div>\n",
       "<style scoped>\n",
       "    .dataframe tbody tr th:only-of-type {\n",
       "        vertical-align: middle;\n",
       "    }\n",
       "\n",
       "    .dataframe tbody tr th {\n",
       "        vertical-align: top;\n",
       "    }\n",
       "\n",
       "    .dataframe thead th {\n",
       "        text-align: right;\n",
       "    }\n",
       "</style>\n",
       "<table border=\"1\" class=\"dataframe\">\n",
       "  <thead>\n",
       "    <tr style=\"text-align: right;\">\n",
       "      <th></th>\n",
       "      <th>Invoice ID</th>\n",
       "      <th>Branch</th>\n",
       "      <th>City</th>\n",
       "      <th>Customer type</th>\n",
       "      <th>Gender</th>\n",
       "      <th>Product line</th>\n",
       "      <th>Unit price</th>\n",
       "      <th>Quantity</th>\n",
       "      <th>Tax 5%</th>\n",
       "      <th>Total</th>\n",
       "      <th>Date</th>\n",
       "      <th>Time</th>\n",
       "      <th>Payment</th>\n",
       "      <th>cogs</th>\n",
       "      <th>gross margin percentage</th>\n",
       "      <th>gross income</th>\n",
       "      <th>Rating</th>\n",
       "    </tr>\n",
       "  </thead>\n",
       "  <tbody>\n",
       "    <tr>\n",
       "      <th>0</th>\n",
       "      <td>750-67-8428</td>\n",
       "      <td>A</td>\n",
       "      <td>Yangon</td>\n",
       "      <td>Member</td>\n",
       "      <td>Female</td>\n",
       "      <td>Health and beauty</td>\n",
       "      <td>74.69</td>\n",
       "      <td>7</td>\n",
       "      <td>26.1415</td>\n",
       "      <td>548.9715</td>\n",
       "      <td>1/5/2019</td>\n",
       "      <td>13:08</td>\n",
       "      <td>Ewallet</td>\n",
       "      <td>522.83</td>\n",
       "      <td>4.761905</td>\n",
       "      <td>26.1415</td>\n",
       "      <td>9.1</td>\n",
       "    </tr>\n",
       "    <tr>\n",
       "      <th>1</th>\n",
       "      <td>226-31-3081</td>\n",
       "      <td>C</td>\n",
       "      <td>Naypyitaw</td>\n",
       "      <td>Normal</td>\n",
       "      <td>Female</td>\n",
       "      <td>Electronic accessories</td>\n",
       "      <td>15.28</td>\n",
       "      <td>5</td>\n",
       "      <td>3.8200</td>\n",
       "      <td>80.2200</td>\n",
       "      <td>3/8/2019</td>\n",
       "      <td>10:29</td>\n",
       "      <td>Cash</td>\n",
       "      <td>76.40</td>\n",
       "      <td>4.761905</td>\n",
       "      <td>3.8200</td>\n",
       "      <td>9.6</td>\n",
       "    </tr>\n",
       "    <tr>\n",
       "      <th>2</th>\n",
       "      <td>631-41-3108</td>\n",
       "      <td>A</td>\n",
       "      <td>Yangon</td>\n",
       "      <td>Normal</td>\n",
       "      <td>Male</td>\n",
       "      <td>Home and lifestyle</td>\n",
       "      <td>46.33</td>\n",
       "      <td>7</td>\n",
       "      <td>16.2155</td>\n",
       "      <td>340.5255</td>\n",
       "      <td>3/3/2019</td>\n",
       "      <td>13:23</td>\n",
       "      <td>Credit card</td>\n",
       "      <td>324.31</td>\n",
       "      <td>4.761905</td>\n",
       "      <td>16.2155</td>\n",
       "      <td>7.4</td>\n",
       "    </tr>\n",
       "    <tr>\n",
       "      <th>3</th>\n",
       "      <td>123-19-1176</td>\n",
       "      <td>A</td>\n",
       "      <td>Yangon</td>\n",
       "      <td>Member</td>\n",
       "      <td>Male</td>\n",
       "      <td>Health and beauty</td>\n",
       "      <td>58.22</td>\n",
       "      <td>8</td>\n",
       "      <td>23.2880</td>\n",
       "      <td>489.0480</td>\n",
       "      <td>1/27/2019</td>\n",
       "      <td>20:33</td>\n",
       "      <td>Ewallet</td>\n",
       "      <td>465.76</td>\n",
       "      <td>4.761905</td>\n",
       "      <td>23.2880</td>\n",
       "      <td>8.4</td>\n",
       "    </tr>\n",
       "    <tr>\n",
       "      <th>4</th>\n",
       "      <td>373-73-7910</td>\n",
       "      <td>A</td>\n",
       "      <td>Yangon</td>\n",
       "      <td>Normal</td>\n",
       "      <td>Male</td>\n",
       "      <td>Sports and travel</td>\n",
       "      <td>86.31</td>\n",
       "      <td>7</td>\n",
       "      <td>30.2085</td>\n",
       "      <td>634.3785</td>\n",
       "      <td>2/8/2019</td>\n",
       "      <td>10:37</td>\n",
       "      <td>Ewallet</td>\n",
       "      <td>604.17</td>\n",
       "      <td>4.761905</td>\n",
       "      <td>30.2085</td>\n",
       "      <td>5.3</td>\n",
       "    </tr>\n",
       "    <tr>\n",
       "      <th>...</th>\n",
       "      <td>...</td>\n",
       "      <td>...</td>\n",
       "      <td>...</td>\n",
       "      <td>...</td>\n",
       "      <td>...</td>\n",
       "      <td>...</td>\n",
       "      <td>...</td>\n",
       "      <td>...</td>\n",
       "      <td>...</td>\n",
       "      <td>...</td>\n",
       "      <td>...</td>\n",
       "      <td>...</td>\n",
       "      <td>...</td>\n",
       "      <td>...</td>\n",
       "      <td>...</td>\n",
       "      <td>...</td>\n",
       "      <td>...</td>\n",
       "    </tr>\n",
       "    <tr>\n",
       "      <th>995</th>\n",
       "      <td>233-67-5758</td>\n",
       "      <td>C</td>\n",
       "      <td>Naypyitaw</td>\n",
       "      <td>Normal</td>\n",
       "      <td>Male</td>\n",
       "      <td>Health and beauty</td>\n",
       "      <td>40.35</td>\n",
       "      <td>1</td>\n",
       "      <td>2.0175</td>\n",
       "      <td>42.3675</td>\n",
       "      <td>1/29/2019</td>\n",
       "      <td>13:46</td>\n",
       "      <td>Ewallet</td>\n",
       "      <td>40.35</td>\n",
       "      <td>4.761905</td>\n",
       "      <td>2.0175</td>\n",
       "      <td>6.2</td>\n",
       "    </tr>\n",
       "    <tr>\n",
       "      <th>996</th>\n",
       "      <td>303-96-2227</td>\n",
       "      <td>B</td>\n",
       "      <td>Mandalay</td>\n",
       "      <td>Normal</td>\n",
       "      <td>Female</td>\n",
       "      <td>Home and lifestyle</td>\n",
       "      <td>97.38</td>\n",
       "      <td>10</td>\n",
       "      <td>48.6900</td>\n",
       "      <td>1022.4900</td>\n",
       "      <td>3/2/2019</td>\n",
       "      <td>17:16</td>\n",
       "      <td>Ewallet</td>\n",
       "      <td>973.80</td>\n",
       "      <td>4.761905</td>\n",
       "      <td>48.6900</td>\n",
       "      <td>4.4</td>\n",
       "    </tr>\n",
       "    <tr>\n",
       "      <th>997</th>\n",
       "      <td>727-02-1313</td>\n",
       "      <td>A</td>\n",
       "      <td>Yangon</td>\n",
       "      <td>Member</td>\n",
       "      <td>Male</td>\n",
       "      <td>Food and beverages</td>\n",
       "      <td>31.84</td>\n",
       "      <td>1</td>\n",
       "      <td>1.5920</td>\n",
       "      <td>33.4320</td>\n",
       "      <td>2/9/2019</td>\n",
       "      <td>13:22</td>\n",
       "      <td>Cash</td>\n",
       "      <td>31.84</td>\n",
       "      <td>4.761905</td>\n",
       "      <td>1.5920</td>\n",
       "      <td>7.7</td>\n",
       "    </tr>\n",
       "    <tr>\n",
       "      <th>998</th>\n",
       "      <td>347-56-2442</td>\n",
       "      <td>A</td>\n",
       "      <td>Yangon</td>\n",
       "      <td>Normal</td>\n",
       "      <td>Male</td>\n",
       "      <td>Home and lifestyle</td>\n",
       "      <td>65.82</td>\n",
       "      <td>1</td>\n",
       "      <td>3.2910</td>\n",
       "      <td>69.1110</td>\n",
       "      <td>2/22/2019</td>\n",
       "      <td>15:33</td>\n",
       "      <td>Cash</td>\n",
       "      <td>65.82</td>\n",
       "      <td>4.761905</td>\n",
       "      <td>3.2910</td>\n",
       "      <td>4.1</td>\n",
       "    </tr>\n",
       "    <tr>\n",
       "      <th>999</th>\n",
       "      <td>849-09-3807</td>\n",
       "      <td>A</td>\n",
       "      <td>Yangon</td>\n",
       "      <td>Member</td>\n",
       "      <td>Female</td>\n",
       "      <td>Fashion accessories</td>\n",
       "      <td>88.34</td>\n",
       "      <td>7</td>\n",
       "      <td>30.9190</td>\n",
       "      <td>649.2990</td>\n",
       "      <td>2/18/2019</td>\n",
       "      <td>13:28</td>\n",
       "      <td>Cash</td>\n",
       "      <td>618.38</td>\n",
       "      <td>4.761905</td>\n",
       "      <td>30.9190</td>\n",
       "      <td>6.6</td>\n",
       "    </tr>\n",
       "  </tbody>\n",
       "</table>\n",
       "<p>1000 rows × 17 columns</p>\n",
       "</div>"
      ],
      "text/plain": [
       "      Invoice ID Branch       City Customer type  Gender  \\\n",
       "0    750-67-8428      A     Yangon        Member  Female   \n",
       "1    226-31-3081      C  Naypyitaw        Normal  Female   \n",
       "2    631-41-3108      A     Yangon        Normal    Male   \n",
       "3    123-19-1176      A     Yangon        Member    Male   \n",
       "4    373-73-7910      A     Yangon        Normal    Male   \n",
       "..           ...    ...        ...           ...     ...   \n",
       "995  233-67-5758      C  Naypyitaw        Normal    Male   \n",
       "996  303-96-2227      B   Mandalay        Normal  Female   \n",
       "997  727-02-1313      A     Yangon        Member    Male   \n",
       "998  347-56-2442      A     Yangon        Normal    Male   \n",
       "999  849-09-3807      A     Yangon        Member  Female   \n",
       "\n",
       "               Product line  Unit price  Quantity   Tax 5%      Total  \\\n",
       "0         Health and beauty       74.69         7  26.1415   548.9715   \n",
       "1    Electronic accessories       15.28         5   3.8200    80.2200   \n",
       "2        Home and lifestyle       46.33         7  16.2155   340.5255   \n",
       "3         Health and beauty       58.22         8  23.2880   489.0480   \n",
       "4         Sports and travel       86.31         7  30.2085   634.3785   \n",
       "..                      ...         ...       ...      ...        ...   \n",
       "995       Health and beauty       40.35         1   2.0175    42.3675   \n",
       "996      Home and lifestyle       97.38        10  48.6900  1022.4900   \n",
       "997      Food and beverages       31.84         1   1.5920    33.4320   \n",
       "998      Home and lifestyle       65.82         1   3.2910    69.1110   \n",
       "999     Fashion accessories       88.34         7  30.9190   649.2990   \n",
       "\n",
       "          Date   Time      Payment    cogs  gross margin percentage  \\\n",
       "0     1/5/2019  13:08      Ewallet  522.83                 4.761905   \n",
       "1     3/8/2019  10:29         Cash   76.40                 4.761905   \n",
       "2     3/3/2019  13:23  Credit card  324.31                 4.761905   \n",
       "3    1/27/2019  20:33      Ewallet  465.76                 4.761905   \n",
       "4     2/8/2019  10:37      Ewallet  604.17                 4.761905   \n",
       "..         ...    ...          ...     ...                      ...   \n",
       "995  1/29/2019  13:46      Ewallet   40.35                 4.761905   \n",
       "996   3/2/2019  17:16      Ewallet  973.80                 4.761905   \n",
       "997   2/9/2019  13:22         Cash   31.84                 4.761905   \n",
       "998  2/22/2019  15:33         Cash   65.82                 4.761905   \n",
       "999  2/18/2019  13:28         Cash  618.38                 4.761905   \n",
       "\n",
       "     gross income  Rating  \n",
       "0         26.1415     9.1  \n",
       "1          3.8200     9.6  \n",
       "2         16.2155     7.4  \n",
       "3         23.2880     8.4  \n",
       "4         30.2085     5.3  \n",
       "..            ...     ...  \n",
       "995        2.0175     6.2  \n",
       "996       48.6900     4.4  \n",
       "997        1.5920     7.7  \n",
       "998        3.2910     4.1  \n",
       "999       30.9190     6.6  \n",
       "\n",
       "[1000 rows x 17 columns]"
      ]
     },
     "execution_count": 3,
     "metadata": {},
     "output_type": "execute_result"
    }
   ],
   "source": [
    "df"
   ]
  },
  {
   "cell_type": "code",
   "execution_count": 4,
   "id": "5e5eb7ac",
   "metadata": {},
   "outputs": [
    {
     "name": "stdout",
     "output_type": "stream",
     "text": [
      "<class 'pandas.core.frame.DataFrame'>\n",
      "RangeIndex: 1000 entries, 0 to 999\n",
      "Data columns (total 17 columns):\n",
      " #   Column                   Non-Null Count  Dtype  \n",
      "---  ------                   --------------  -----  \n",
      " 0   Invoice ID               1000 non-null   object \n",
      " 1   Branch                   1000 non-null   object \n",
      " 2   City                     1000 non-null   object \n",
      " 3   Customer type            1000 non-null   object \n",
      " 4   Gender                   1000 non-null   object \n",
      " 5   Product line             1000 non-null   object \n",
      " 6   Unit price               1000 non-null   float64\n",
      " 7   Quantity                 1000 non-null   int64  \n",
      " 8   Tax 5%                   1000 non-null   float64\n",
      " 9   Total                    1000 non-null   float64\n",
      " 10  Date                     1000 non-null   object \n",
      " 11  Time                     1000 non-null   object \n",
      " 12  Payment                  1000 non-null   object \n",
      " 13  cogs                     1000 non-null   float64\n",
      " 14  gross margin percentage  1000 non-null   float64\n",
      " 15  gross income             1000 non-null   float64\n",
      " 16  Rating                   1000 non-null   float64\n",
      "dtypes: float64(7), int64(1), object(9)\n",
      "memory usage: 132.9+ KB\n"
     ]
    }
   ],
   "source": [
    "df.info()"
   ]
  },
  {
   "cell_type": "markdown",
   "id": "53f65258",
   "metadata": {},
   "source": [
    "# Missing Value"
   ]
  },
  {
   "cell_type": "code",
   "execution_count": 5,
   "id": "17308525",
   "metadata": {},
   "outputs": [
    {
     "data": {
      "text/plain": [
       "Invoice ID                 0\n",
       "Branch                     0\n",
       "City                       0\n",
       "Customer type              0\n",
       "Gender                     0\n",
       "Product line               0\n",
       "Unit price                 0\n",
       "Quantity                   0\n",
       "Tax 5%                     0\n",
       "Total                      0\n",
       "Date                       0\n",
       "Time                       0\n",
       "Payment                    0\n",
       "cogs                       0\n",
       "gross margin percentage    0\n",
       "gross income               0\n",
       "Rating                     0\n",
       "dtype: int64"
      ]
     },
     "execution_count": 5,
     "metadata": {},
     "output_type": "execute_result"
    }
   ],
   "source": [
    "df.isnull().sum()"
   ]
  },
  {
   "cell_type": "markdown",
   "id": "c97f2f96",
   "metadata": {},
   "source": [
    "Data is Clean"
   ]
  },
  {
   "cell_type": "markdown",
   "id": "aa0c52af",
   "metadata": {},
   "source": [
    "# Total Revenue"
   ]
  },
  {
   "cell_type": "code",
   "execution_count": 6,
   "id": "418aa103",
   "metadata": {
    "scrolled": false
   },
   "outputs": [
    {
     "data": {
      "text/plain": [
       "322966.749"
      ]
     },
     "execution_count": 6,
     "metadata": {},
     "output_type": "execute_result"
    }
   ],
   "source": [
    "df.Total.sum()"
   ]
  },
  {
   "cell_type": "markdown",
   "id": "36df4305",
   "metadata": {},
   "source": [
    "# Product Type"
   ]
  },
  {
   "cell_type": "code",
   "execution_count": 7,
   "id": "f489174e",
   "metadata": {
    "scrolled": true
   },
   "outputs": [
    {
     "data": {
      "text/plain": [
       "6"
      ]
     },
     "execution_count": 7,
     "metadata": {},
     "output_type": "execute_result"
    }
   ],
   "source": [
    "df['Product line'].nunique()"
   ]
  },
  {
   "cell_type": "markdown",
   "id": "77111cb6",
   "metadata": {},
   "source": [
    "# Total Revenue Per Product Lines and City"
   ]
  },
  {
   "cell_type": "code",
   "execution_count": 8,
   "id": "7590fe8c",
   "metadata": {},
   "outputs": [],
   "source": [
    "group_1 = df.groupby(['Product line', 'City'])\n",
    "total_revenue = group_1['Total'].sum()"
   ]
  },
  {
   "cell_type": "code",
   "execution_count": 9,
   "id": "9d0ae336",
   "metadata": {
    "scrolled": true
   },
   "outputs": [
    {
     "data": {
      "text/plain": [
       "Product line            City     \n",
       "Food and beverages      Naypyitaw    23766.8550\n",
       "Home and lifestyle      Yangon       22417.1955\n",
       "Fashion accessories     Naypyitaw    21560.0700\n",
       "Sports and travel       Mandalay     19988.1990\n",
       "Health and beauty       Mandalay     19980.6600\n",
       "Sports and travel       Yangon       19372.6995\n",
       "Electronic accessories  Naypyitaw    18968.9745\n",
       "                        Yangon       18317.1135\n",
       "Home and lifestyle      Mandalay     17549.1645\n",
       "Food and beverages      Yangon       17163.1005\n",
       "Electronic accessories  Mandalay     17051.4435\n",
       "Health and beauty       Naypyitaw    16615.3260\n",
       "Fashion accessories     Mandalay     16413.3165\n",
       "                        Yangon       16332.5085\n",
       "Sports and travel       Naypyitaw    15761.9280\n",
       "Food and beverages      Mandalay     15214.8885\n",
       "Home and lifestyle      Naypyitaw    13895.5530\n",
       "Health and beauty       Yangon       12597.7530\n",
       "Name: Total, dtype: float64"
      ]
     },
     "execution_count": 9,
     "metadata": {},
     "output_type": "execute_result"
    }
   ],
   "source": [
    "total_revenue.sort_values(ascending=False)"
   ]
  },
  {
   "cell_type": "markdown",
   "id": "695df019",
   "metadata": {},
   "source": [
    "# Percentage Total Revenue Per Product Lines and City"
   ]
  },
  {
   "cell_type": "code",
   "execution_count": 10,
   "id": "76898368",
   "metadata": {},
   "outputs": [
    {
     "data": {
      "text/plain": [
       "Product line            City     \n",
       "Electronic accessories  Mandalay     31.380600\n",
       "                        Naypyitaw    34.909526\n",
       "                        Yangon       33.709874\n",
       "Fashion accessories     Mandalay     30.223821\n",
       "                        Naypyitaw    39.701160\n",
       "                        Yangon       30.075019\n",
       "Food and beverages      Mandalay     27.099351\n",
       "                        Naypyitaw    42.331323\n",
       "                        Yangon       30.569326\n",
       "Health and beauty       Mandalay     40.616266\n",
       "                        Naypyitaw    33.775286\n",
       "                        Yangon       25.608448\n",
       "Home and lifestyle      Mandalay     32.581770\n",
       "                        Naypyitaw    25.798477\n",
       "                        Yangon       41.619754\n",
       "Sports and travel       Mandalay     36.261201\n",
       "                        Naypyitaw    28.594194\n",
       "                        Yangon       35.144605\n",
       "Name: Total, dtype: float64"
      ]
     },
     "execution_count": 10,
     "metadata": {},
     "output_type": "execute_result"
    }
   ],
   "source": [
    "total_revenue_percentage = total_revenue / total_revenue.groupby(level=0).transform('sum') * 100\n",
    "total_revenue_percentage"
   ]
  },
  {
   "cell_type": "markdown",
   "id": "10950b40",
   "metadata": {},
   "source": [
    "# Total Revenue Per Gender and Customer Type"
   ]
  },
  {
   "cell_type": "code",
   "execution_count": 11,
   "id": "6183c73c",
   "metadata": {},
   "outputs": [],
   "source": [
    "group_2 = df.groupby(['Customer type', 'Gender'])\n",
    "total_revenue_2 = group_2['Total'].sum()"
   ]
  },
  {
   "cell_type": "code",
   "execution_count": 12,
   "id": "1f34e825",
   "metadata": {},
   "outputs": [
    {
     "data": {
      "text/plain": [
       "Customer type  Gender\n",
       "Member         Female    88146.9435\n",
       "               Male      76076.5005\n",
       "Normal         Female    79735.9815\n",
       "               Male      79007.3235\n",
       "Name: Total, dtype: float64"
      ]
     },
     "execution_count": 12,
     "metadata": {},
     "output_type": "execute_result"
    }
   ],
   "source": [
    "total_revenue_2"
   ]
  },
  {
   "cell_type": "markdown",
   "id": "c6c2c640",
   "metadata": {},
   "source": [
    "# Percentage Total Revenue Per Gender and Customer Type"
   ]
  },
  {
   "cell_type": "code",
   "execution_count": 13,
   "id": "8b28eae9",
   "metadata": {},
   "outputs": [],
   "source": [
    "# Calculate totals per Customer Type group\n",
    "total_revenue_per_type = df.groupby('Customer type')['Total'].sum()"
   ]
  },
  {
   "cell_type": "code",
   "execution_count": 14,
   "id": "65835703",
   "metadata": {},
   "outputs": [],
   "source": [
    "# Calculate the percentage per group\n",
    "total_revenue_percentage = (total_revenue_2 / total_revenue_per_type) * 100"
   ]
  },
  {
   "cell_type": "code",
   "execution_count": 15,
   "id": "e9c4fcc9",
   "metadata": {},
   "outputs": [
    {
     "data": {
      "text/plain": [
       "Customer type  Gender\n",
       "Member         Female    53.675006\n",
       "               Male      46.324994\n",
       "Normal         Female    50.229508\n",
       "               Male      49.770492\n",
       "Name: Total, dtype: float64"
      ]
     },
     "execution_count": 15,
     "metadata": {},
     "output_type": "execute_result"
    }
   ],
   "source": [
    "total_revenue_percentage"
   ]
  },
  {
   "cell_type": "markdown",
   "id": "54ec5d39",
   "metadata": {},
   "source": [
    "# Distribution of Payment Types"
   ]
  },
  {
   "cell_type": "code",
   "execution_count": 16,
   "id": "0a778822",
   "metadata": {},
   "outputs": [],
   "source": [
    "group_3 = df.groupby('Payment')\n",
    "total_id = group_3['Invoice ID'].count()"
   ]
  },
  {
   "cell_type": "code",
   "execution_count": 17,
   "id": "111b7d23",
   "metadata": {},
   "outputs": [
    {
     "data": {
      "text/plain": [
       "Payment\n",
       "Cash           344\n",
       "Credit card    311\n",
       "Ewallet        345\n",
       "Name: Invoice ID, dtype: int64"
      ]
     },
     "execution_count": 17,
     "metadata": {},
     "output_type": "execute_result"
    }
   ],
   "source": [
    "total_id"
   ]
  },
  {
   "cell_type": "markdown",
   "id": "0b6de2c6",
   "metadata": {},
   "source": [
    "# Percentage Distribution of Payment Types"
   ]
  },
  {
   "cell_type": "code",
   "execution_count": 18,
   "id": "c9b1a978",
   "metadata": {},
   "outputs": [
    {
     "data": {
      "text/plain": [
       "Payment\n",
       "Cash           34.4\n",
       "Credit card    31.1\n",
       "Ewallet        34.5\n",
       "Name: Invoice ID, dtype: float64"
      ]
     },
     "execution_count": 18,
     "metadata": {},
     "output_type": "execute_result"
    }
   ],
   "source": [
    "total_id_percentage = (total_id / total_id.sum()) * 100\n",
    "total_id_percentage"
   ]
  },
  {
   "cell_type": "markdown",
   "id": "b9db2edc",
   "metadata": {},
   "source": [
    "# Total Sales by City"
   ]
  },
  {
   "cell_type": "code",
   "execution_count": 19,
   "id": "f08a648b",
   "metadata": {},
   "outputs": [],
   "source": [
    "group_4 = df.groupby('City')\n",
    "total_quantity = group_4['Quantity'].sum()"
   ]
  },
  {
   "cell_type": "code",
   "execution_count": 20,
   "id": "47961163",
   "metadata": {},
   "outputs": [
    {
     "data": {
      "text/plain": [
       "City\n",
       "Yangon       1859\n",
       "Naypyitaw    1831\n",
       "Mandalay     1820\n",
       "Name: Quantity, dtype: int64"
      ]
     },
     "execution_count": 20,
     "metadata": {},
     "output_type": "execute_result"
    }
   ],
   "source": [
    "total_quantity.sort_values(ascending=False)"
   ]
  },
  {
   "cell_type": "markdown",
   "id": "45026930",
   "metadata": {},
   "source": [
    "# Percentage Total Sales by City"
   ]
  },
  {
   "cell_type": "code",
   "execution_count": 21,
   "id": "51d9ad47",
   "metadata": {
    "scrolled": true
   },
   "outputs": [
    {
     "data": {
      "text/plain": [
       "City\n",
       "Mandalay     33.030853\n",
       "Naypyitaw    33.230490\n",
       "Yangon       33.738657\n",
       "Name: Quantity, dtype: float64"
      ]
     },
     "execution_count": 21,
     "metadata": {},
     "output_type": "execute_result"
    }
   ],
   "source": [
    "total_quantity_percentage = (total_quantity / total_quantity.sum()) * 100\n",
    "total_quantity_percentage"
   ]
  }
 ],
 "metadata": {
  "kernelspec": {
   "display_name": "Python 3 (ipykernel)",
   "language": "python",
   "name": "python3"
  },
  "language_info": {
   "codemirror_mode": {
    "name": "ipython",
    "version": 3
   },
   "file_extension": ".py",
   "mimetype": "text/x-python",
   "name": "python",
   "nbconvert_exporter": "python",
   "pygments_lexer": "ipython3",
   "version": "3.11.4"
  }
 },
 "nbformat": 4,
 "nbformat_minor": 5
}
